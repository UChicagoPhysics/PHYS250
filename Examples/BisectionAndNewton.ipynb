{
 "cells": [
  {
   "cell_type": "markdown",
   "metadata": {},
   "source": [
    "# Bisection and Newton's Method"
   ]
  },
  {
   "cell_type": "markdown",
   "metadata": {},
   "source": [
    "## Bisection method\n",
    "\n",
    "The main idea behind this algorithm is to find the root of a function. That is, for what value(s) of the argument(s) does the function, $f=0$?\n",
    "\n",
    "The algorithm is basically just successively splitting a region over which we *think* that function should go to zero in half until we find that point.  \n",
    "\n",
    "The bisection method is straightforward and reliable, but it is limited and not very fast for large search regions.\n",
    "\n",
    "## Bisection algorithm\n",
    "\n",
    "Suppose $f$ is a continuous function defined on the interval $[a,b]$, with $f(a)$ and $f(b)$ of opposite sign. In other words:\n",
    "\n",
    "$$f(a)f(b) < 0$$\n",
    "\n",
    "We know that there exists a number $p$ in $(a,b)$ with $f(p)=0$. \n",
    "\n",
    "To find such $p$, set $a_1=a$ and $b_1=b$, and let $p_1$ be the midpoint in between a and b: \n",
    "\n",
    "$$p_1=\\dfrac{(a_1+b_1)}{2}$$\n",
    "\n",
    "1) If $f(p_1)=0$, then $p=p_1$, we are done;\n",
    "\n",
    "2) If $f(p_1)$  and  $f(a_1)$ have the same sign, $p \\in (p_1,b_1)$, and we set $a_2=p_1$ and $b_2=b_1$;\n",
    "\n",
    "3) Similarly, If $f(p_1)$  and  $f(a_1)$ have opposite signs, $p \\in (p_1,b_1)$, and we set $a_2=a_1$ and $b_2=p_1$;\n",
    "\n",
    "4) Iterate the process above in the following intervals: $[a_2, b_2]$, $[a_3, b_3]$...$[a_i, b_i]$;\n",
    "\n",
    "5) Set the error tolerance, the loop will be terminate if $$\\dfrac{(a_i+b_i)}{2}< tolerance.$$\n",
    "\n",
    "## Difficulties\n",
    "\n",
    "The bisection method is straightforward and reliable, but it can be slow if you don’t have a good initial guess for the interval.\n",
    "\n",
    "If there is no root in the chosen interval, then it does not matter what you do.\n",
    "\n",
    "The method also uses no information whatsoever about the size of the step to take with each iteration. The overall time is determined only by the size of the initial interval (i.e. how good your guess is) and the tolerance, $\\epsilon$\n"
   ]
  },
  {
   "cell_type": "markdown",
   "metadata": {},
   "source": [
    "## Bisection exercises\n",
    "\n",
    "Let's play with this a bit!"
   ]
  },
  {
   "cell_type": "code",
   "execution_count": null,
   "metadata": {},
   "outputs": [],
   "source": [
    "import numpy as np\n",
    "from scipy.differentiate import derivative\n",
    "import matplotlib.pyplot as plt\n",
    "%matplotlib inline"
   ]
  },
  {
   "cell_type": "markdown",
   "metadata": {},
   "source": [
    "### Define a function\n",
    "\n",
    "I have provided a bunch of possibilities here, but please just come up with your own!"
   ]
  },
  {
   "cell_type": "code",
   "execution_count": null,
   "metadata": {},
   "outputs": [],
   "source": [
    "def f(x):\n",
    "    #y = x - 1.9\n",
    "    #y = x ** 3 + 4 * x ** 2 - 10  \n",
    "    #y = np.sin(x) - 2\n",
    "    #y = x ** 2 + (x-4)**2 - 2\n",
    "    #y = np.tanh(x)**2 + x/2.\n",
    "    #y = np.log(x)\n",
    "    y = np.tanh(x)**2 + np.tanh(0.5*x**2) + x/2. - 1.\n",
    "    return(y)"
   ]
  },
  {
   "cell_type": "markdown",
   "metadata": {},
   "source": [
    "### Code up the bisection algorithm\n",
    "\n",
    "1. Specify an interval defined by the endpoints $a$ and $b$ in which you want to search for the zero to your function $f(p)=0$, where $p$ is the midpoint of the interval\n",
    "1. Setup a `while` loop that iterates until $f(p) = 0$ or $(b-a)<$ tolerance\n",
    "1. Evaluate the function $f$ at the left end point, say $f(a)$\n",
    "1. Compute the midpoint of the interval: $p = (a+b)/2$\n",
    "1. Evaluate the function $f$ at $p$\n",
    "1. If $f(p) = 0$ or $(b-a)<$ tolerance, then print out some information and exit the `while` loop (can use `return p`)\n",
    "1. Otherwise, update the endpoints of the interval using the condition that if $f(a)*f(p) > 0$ then we are to the left of the zero-point, and thus we should update $a\\rightarrow p$. Vice versa in the case that $f(a)*f(p) < 0$"
   ]
  },
  {
   "cell_type": "code",
   "execution_count": null,
   "metadata": {},
   "outputs": [],
   "source": [
    "def bisection(function,a,b,tolerance):\n",
    "\n",
    "    # First check whether there is a zero in the initial interval at all!\n",
    "    if ((function(a) * function(b)) > 0):\n",
    "\n",
    "        print(\"There is no zero in this interval! Pick a better interval!\")\n",
    "\n",
    "        return(-999)\n",
    "\n",
    "    # Now loop over the interval and find the zero\n",
    "    p = (a+b)/2\n",
    "\n",
    "    print(\"Starting our while loop\")\n",
    "    while (np.absolute(a-b) > tolerance) and (np.absolute(function(p)) > 0):\n",
    "\n",
    "        # Calculate the midpoint and the values of the \n",
    "        # function at each endpoint and the midpoint\n",
    "        p = (a+b)/2\n",
    "        fa = function(a)\n",
    "        fb = function(b)\n",
    "        fp = function(p)\n",
    "\n",
    "        # Check whether our end points or mid points are zeroes\n",
    "        if (fa == 0):\n",
    "            return a\n",
    "        elif (fb == 0):\n",
    "            return b\n",
    "        elif (fp == 0):\n",
    "            return p \n",
    "        \n",
    "        # Check whether there is a zero in the \"left\" interval\n",
    "        if ((fa * fp) > 0):\n",
    "\n",
    "            # Print some information\n",
    "            print(\"There is no zero in this interval! Updating the interval to the opposite side\")\n",
    "\n",
    "            # Reset the interval\n",
    "            a = p\n",
    "        else:\n",
    "            b = p\n",
    "\n",
    "    print(\"Found our zero: \" + str(p))\n",
    "    return(p)"
   ]
  },
  {
   "cell_type": "markdown",
   "metadata": {},
   "source": [
    "### Propose a range over which to search\n",
    "\n",
    "Pick your endpoints that you think define an interval over which the function goes to zero"
   ]
  },
  {
   "cell_type": "code",
   "execution_count": null,
   "metadata": {},
   "outputs": [],
   "source": [
    "xleft  = -10000\n",
    "xright = 20000"
   ]
  },
  {
   "cell_type": "code",
   "execution_count": null,
   "metadata": {},
   "outputs": [],
   "source": [
    "p = bisection(f,xleft, xright, 0.0000000001)\n",
    "print(\" Root of f(x) = %f\" % p)\n",
    "print(\"Value of f(p) = %f at p = %f\" % (f(p), p))"
   ]
  },
  {
   "cell_type": "markdown",
   "metadata": {},
   "source": [
    "## Newton's Method\n",
    "\n",
    "Newton's method is an iterative process for finding the roots of a function.\n",
    "\n",
    "The concept is to\n",
    "\n",
    "- guess a starting $x$ point $(x_1)$\n",
    "- find a linear equation that's tangent to and passes through $f(x_1)$\n",
    "- move to the x intercept\n",
    "- repeat"
   ]
  },
  {
   "cell_type": "markdown",
   "metadata": {},
   "source": [
    "\n",
    "### Newton's Method in action\n",
    "\n",
    "Let's use the <i>point-slope</i> form of a linear equation\n",
    "\n",
    "$$\n",
    "y - y_1 = m(x - x_1)\n",
    "$$\n",
    "\n",
    "We have a point $x_1$ and $f(x_1)=y_1$\n",
    "\n",
    "and a slope $m= f'(x_1)$\n",
    "\n",
    "so let's plug in and find the $x$ intercept\n",
    "\n",
    "$$\n",
    "y - f(x_1) = f'(x_1)(x - x_1)\n",
    "$$\n",
    "\n",
    "Set $y=0$ and solve for $x_2$\n",
    "\n",
    "$$\n",
    " - f(x_1) = f'(x_1)(x_2 - x_1)\n",
    "$$\n",
    "\n",
    "$$\n",
    "-\\frac{f(x_1)}{f'(x_1)} = x_2 - x_1\n",
    "$$\n",
    "\n",
    "$$\n",
    "x_2 = x_1 - \\frac{f(x_1)}{f'(x_1)}\n",
    "$$\n",
    "\n",
    "or in general terms\n",
    "\n",
    "$$\n",
    "x_{n+1} = x_n - \\frac{f(x_n)}{f'(x_n)}\n",
    "$$"
   ]
  },
  {
   "cell_type": "markdown",
   "metadata": {},
   "source": [
    "## Newton's method exercises\n",
    "\n",
    "Let's look at this method now"
   ]
  },
  {
   "cell_type": "code",
   "execution_count": null,
   "metadata": {},
   "outputs": [],
   "source": [
    "import numpy as np\n",
    "from scipy.misc import derivative\n",
    "import matplotlib.pyplot as plt\n",
    "%matplotlib inline"
   ]
  },
  {
   "cell_type": "markdown",
   "metadata": {},
   "source": [
    "### Tangent line\n",
    "\n",
    "This function determines a linear function whose slope is equal to the first derivative of the function at the point at which it's evaluated; that is, this function determines the tangent line for a given function.\n",
    "\n",
    "**NOTE**: *This uses the definition of the function that you provided above!*"
   ]
  },
  {
   "cell_type": "code",
   "execution_count": null,
   "metadata": {},
   "outputs": [],
   "source": [
    "def f_line(f, x, x_n):\n",
    "    slope = derivative(f, x_n, dx=0.01)\n",
    "    x_nn  = x_n - f(x_n) / slope \n",
    "    return slope * (x - x_n) + f(x_n), x_nn"
   ]
  },
  {
   "cell_type": "markdown",
   "metadata": {},
   "source": [
    "### Coding up Newton's algorithm\n",
    "\n",
    "This is slightly more complex in order to show the actual lines, so let's just get to it!\n"
   ]
  },
  {
   "cell_type": "code",
   "execution_count": null,
   "metadata": {},
   "outputs": [],
   "source": [
    "def runNewton(startingpoint, order):\n",
    "\n",
    "    x = np.linspace(-20, 30, 5000)\n",
    "    \n",
    "    x_n = startingpoint\n",
    "    ax.clear()\n",
    "    ax.plot(x, f(x), label='mystery function')\n",
    "    ax.axhline(0, color='gray', lw=0.5)\n",
    "\n",
    "    for i in range(0, order):\n",
    "\n",
    "        if i >= 1:\n",
    "            ax.plot(x, f_l, '--', lw=1)\n",
    "        \n",
    "        ax.plot(x_n, f(x_n), 'kd', label=r'$f(x_{}={:.3f})={:.4f}$'.format(i + 1, x_n, f(x_n)))\n",
    "        ax.vlines(x_n, 0, f(x_n), color='black', linestyle=':', lw=1)\n",
    "        f_l, x_n = f_line(f, x, x_n)\n",
    "\n",
    "        \n",
    "    #plt.setp(ax, xticks=[0, 1, 2], xticklabels=['0', '1', '2'],\n",
    "    #         yticks=[-1, 0, 1], yticklabels=['-1', '0', '+1'])\n",
    "    ax.set_ylim(-3, 3)\n",
    "    ax.set_xlim(-10, 10)\n",
    "    ax.legend(loc=\"lower right\")\n",
    "    plt.show()"
   ]
  },
  {
   "cell_type": "code",
   "execution_count": null,
   "metadata": {},
   "outputs": [],
   "source": [
    "fig, ax = plt.subplots(1,1,figsize=(10, 5))\n",
    "runNewton(-1,15)"
   ]
  },
  {
   "cell_type": "code",
   "execution_count": null,
   "metadata": {},
   "outputs": [],
   "source": [
    "fig, ax = plt.subplots(1,1,figsize=(10, 10))\n",
    "ax.set_xlim(-2,2)\n",
    "runNewton(-0.3,9)"
   ]
  },
  {
   "cell_type": "code",
   "execution_count": null,
   "metadata": {},
   "outputs": [],
   "source": []
  }
 ],
 "metadata": {
  "kernelspec": {
   "display_name": "Python 3 (ipykernel)",
   "language": "python",
   "name": "python3"
  },
  "language_info": {
   "codemirror_mode": {
    "name": "ipython",
    "version": 3
   },
   "file_extension": ".py",
   "mimetype": "text/x-python",
   "name": "python",
   "nbconvert_exporter": "python",
   "pygments_lexer": "ipython3",
   "version": "3.13.7"
  }
 },
 "nbformat": 4,
 "nbformat_minor": 4
}
